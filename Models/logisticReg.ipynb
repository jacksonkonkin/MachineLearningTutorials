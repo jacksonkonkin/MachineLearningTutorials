{
 "cells": [
  {
   "cell_type": "code",
   "execution_count": 14,
   "metadata": {},
   "outputs": [],
   "source": [
    "import numpy as np"
   ]
  },
  {
   "cell_type": "code",
   "execution_count": 15,
   "metadata": {},
   "outputs": [],
   "source": [
    "class LogisticRegression():\n",
    "    # Constructor\n",
    "    def __init__(self, learning_rate=0.01, n_iter=1000):\n",
    "        self.learning_rate = learning_rate\n",
    "        self.n_iter = n_iter    \n",
    "\n",
    "    # Fit the model\n",
    "    def fit(self, X, y):\n",
    "        # Shape of the dataset\n",
    "        # Rows (instances) = m, Columns (features) = n\n",
    "        self.m, self.n = X.shape\n",
    "\n",
    "        # Initialize the weight, bias, X and y\n",
    "        self.weights = np.zeros(self.n)\n",
    "        self.bias = 0\n",
    "        self.X = X\n",
    "        self.y = y\n",
    "\n",
    "        # Gradient Descent\n",
    "        for i in range(self.n_iter):\n",
    "            self.updateWeights()\n",
    "        \n",
    "    # Update the weights \n",
    "    def updateWeights(self):\n",
    "        # Y prediction formula\n",
    "        yPredicted = self.sigmoid(np.dot(self.X, self.weights) + self.bias)\n",
    "\n",
    "        # Calculate the derivatives\n",
    "        dw = (1 / self.m) * np.dot(self.X.T, (yPredicted - self.y))\n",
    "        db = (1 / self.m) * np.sum(yPredicted - self.y)\n",
    "\n",
    "        # Update the weights\n",
    "        self.weights -= self.learning_rate * dw\n",
    "        self.bias -= self.learning_rate * db\n",
    "        \n",
    "    # Predict the output\n",
    "    def predict(self, X):\n",
    "        # Y prediction formula\n",
    "        yPredicted = self.sigmoid(np.dot(X, self.weights) + self.bias)\n",
    "        yPredictedClasses = [1 if i > 0.5 else 0 for i in yPredicted]\n",
    "        return yPredictedClasses\n",
    "    \n",
    "    # Sigmoid function\n",
    "    def sigmoid(self, x):\n",
    "        return 1 / (1 + np.exp(-x))"
   ]
  }
 ],
 "metadata": {
  "kernelspec": {
   "display_name": "Python 3",
   "language": "python",
   "name": "python3"
  },
  "language_info": {
   "codemirror_mode": {
    "name": "ipython",
    "version": 3
   },
   "file_extension": ".py",
   "mimetype": "text/x-python",
   "name": "python",
   "nbconvert_exporter": "python",
   "pygments_lexer": "ipython3",
   "version": "3.9.13"
  },
  "orig_nbformat": 4
 },
 "nbformat": 4,
 "nbformat_minor": 2
}
